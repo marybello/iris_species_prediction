{
  "nbformat": 4,
  "nbformat_minor": 0,
  "metadata": {
    "colab": {
      "name": "iris_flower.ipynb",
      "provenance": [],
      "authorship_tag": "ABX9TyMDzUGau2qlgdcT+5IGBZ7N",
      "include_colab_link": true
    },
    "kernelspec": {
      "name": "python3",
      "display_name": "Python 3"
    }
  },
  "cells": [
    {
      "cell_type": "markdown",
      "metadata": {
        "id": "view-in-github",
        "colab_type": "text"
      },
      "source": [
        "<a href=\"https://colab.research.google.com/github/marybello/iris_species_prediction/blob/master/iris_flower.ipynb\" target=\"_parent\"><img src=\"https://colab.research.google.com/assets/colab-badge.svg\" alt=\"Open In Colab\"/></a>"
      ]
    },
    {
      "cell_type": "code",
      "metadata": {
        "id": "72WsbJh8jmjb",
        "colab_type": "code",
        "colab": {}
      },
      "source": [
        "from __future__ import absolute_import, division, print_function, unicode_literals\n",
        "import tensorflow as tf\n",
        "import pandas as pd"
      ],
      "execution_count": 15,
      "outputs": []
    },
    {
      "cell_type": "code",
      "metadata": {
        "id": "L1RlYyPKwf6j",
        "colab_type": "code",
        "colab": {}
      },
      "source": [
        ""
      ],
      "execution_count": null,
      "outputs": []
    },
    {
      "cell_type": "code",
      "metadata": {
        "id": "PsqFoclukfac",
        "colab_type": "code",
        "colab": {}
      },
      "source": [
        "column_names = ['SepalLength','SepalWidth','PetalLength','PetalWidth','Species']\n",
        "species =['Setosa','Versicolor','Virginica']"
      ],
      "execution_count": 16,
      "outputs": []
    },
    {
      "cell_type": "code",
      "metadata": {
        "id": "tz6MpTVH73gj",
        "colab_type": "code",
        "colab": {}
      },
      "source": [
        "train_path = tf.keras.utils.get_file('iris_training.csv','https://storage.googleapis.com/download.tensorflow.org/data/iris_training.csv')\n",
        "test_path = tf.keras.utils.get_file('iris_test.csv','https://storage.googleapis.com/download.tensorflow.org/data/iris_test.csv')"
      ],
      "execution_count": 17,
      "outputs": []
    },
    {
      "cell_type": "code",
      "metadata": {
        "id": "N7haA3vE-cQ0",
        "colab_type": "code",
        "colab": {}
      },
      "source": [
        "train_df = pd.read_csv(train_path, names=column_names, header=0)\n",
        "test_df = pd.read_csv(test_path, names=column_names, header=0)"
      ],
      "execution_count": 18,
      "outputs": []
    },
    {
      "cell_type": "code",
      "metadata": {
        "id": "ngGSwjMz-3jW",
        "colab_type": "code",
        "colab": {
          "base_uri": "https://localhost:8080/",
          "height": 206
        },
        "outputId": "cace7309-d156-43f6-fbc4-137c71ab70ca"
      },
      "source": [
        "train_df.head()"
      ],
      "execution_count": 19,
      "outputs": [
        {
          "output_type": "execute_result",
          "data": {
            "text/html": [
              "<div>\n",
              "<style scoped>\n",
              "    .dataframe tbody tr th:only-of-type {\n",
              "        vertical-align: middle;\n",
              "    }\n",
              "\n",
              "    .dataframe tbody tr th {\n",
              "        vertical-align: top;\n",
              "    }\n",
              "\n",
              "    .dataframe thead th {\n",
              "        text-align: right;\n",
              "    }\n",
              "</style>\n",
              "<table border=\"1\" class=\"dataframe\">\n",
              "  <thead>\n",
              "    <tr style=\"text-align: right;\">\n",
              "      <th></th>\n",
              "      <th>SepalLength</th>\n",
              "      <th>SepalWidth</th>\n",
              "      <th>PetalLength</th>\n",
              "      <th>PetalWidth</th>\n",
              "      <th>Species</th>\n",
              "    </tr>\n",
              "  </thead>\n",
              "  <tbody>\n",
              "    <tr>\n",
              "      <th>0</th>\n",
              "      <td>6.4</td>\n",
              "      <td>2.8</td>\n",
              "      <td>5.6</td>\n",
              "      <td>2.2</td>\n",
              "      <td>2</td>\n",
              "    </tr>\n",
              "    <tr>\n",
              "      <th>1</th>\n",
              "      <td>5.0</td>\n",
              "      <td>2.3</td>\n",
              "      <td>3.3</td>\n",
              "      <td>1.0</td>\n",
              "      <td>1</td>\n",
              "    </tr>\n",
              "    <tr>\n",
              "      <th>2</th>\n",
              "      <td>4.9</td>\n",
              "      <td>2.5</td>\n",
              "      <td>4.5</td>\n",
              "      <td>1.7</td>\n",
              "      <td>2</td>\n",
              "    </tr>\n",
              "    <tr>\n",
              "      <th>3</th>\n",
              "      <td>4.9</td>\n",
              "      <td>3.1</td>\n",
              "      <td>1.5</td>\n",
              "      <td>0.1</td>\n",
              "      <td>0</td>\n",
              "    </tr>\n",
              "    <tr>\n",
              "      <th>4</th>\n",
              "      <td>5.7</td>\n",
              "      <td>3.8</td>\n",
              "      <td>1.7</td>\n",
              "      <td>0.3</td>\n",
              "      <td>0</td>\n",
              "    </tr>\n",
              "  </tbody>\n",
              "</table>\n",
              "</div>"
            ],
            "text/plain": [
              "   SepalLength  SepalWidth  PetalLength  PetalWidth  Species\n",
              "0          6.4         2.8          5.6         2.2        2\n",
              "1          5.0         2.3          3.3         1.0        1\n",
              "2          4.9         2.5          4.5         1.7        2\n",
              "3          4.9         3.1          1.5         0.1        0\n",
              "4          5.7         3.8          1.7         0.3        0"
            ]
          },
          "metadata": {
            "tags": []
          },
          "execution_count": 19
        }
      ]
    },
    {
      "cell_type": "code",
      "metadata": {
        "id": "Hzg0gIgr-6Du",
        "colab_type": "code",
        "colab": {}
      },
      "source": [
        "y_train = train_df.pop('Species')\n",
        "y_test = test_df.pop('Species')"
      ],
      "execution_count": 20,
      "outputs": []
    },
    {
      "cell_type": "code",
      "metadata": {
        "id": "FknZWW_Q_LTt",
        "colab_type": "code",
        "colab": {
          "base_uri": "https://localhost:8080/",
          "height": 35
        },
        "outputId": "2680a5e3-1738-476f-db51-2640167c78cc"
      },
      "source": [
        "train_df.shape"
      ],
      "execution_count": 21,
      "outputs": [
        {
          "output_type": "execute_result",
          "data": {
            "text/plain": [
              "(120, 4)"
            ]
          },
          "metadata": {
            "tags": []
          },
          "execution_count": 21
        }
      ]
    },
    {
      "cell_type": "code",
      "metadata": {
        "id": "4dsBC7w6_OXD",
        "colab_type": "code",
        "colab": {}
      },
      "source": [
        "def input_fn(features,labels, training=True, batch_size=256):\n",
        "  dataset = tf.data.Dataset.from_tensor_slices((dict(features), labels))\n",
        "\n",
        "  if training:\n",
        "    dataset= dataset.shuffle(1000).repeat()\n",
        "  return dataset.batch(batch_size)  "
      ],
      "execution_count": 22,
      "outputs": []
    },
    {
      "cell_type": "code",
      "metadata": {
        "id": "x1Ke4jamAKyI",
        "colab_type": "code",
        "colab": {
          "base_uri": "https://localhost:8080/",
          "height": 110
        },
        "outputId": "972fa012-6ab8-45b6-a222-5428710ce6d5"
      },
      "source": [
        "feature_columns=[]\n",
        "for key in train_df.keys():\n",
        "  feature_columns.append(tf.feature_column.numeric_column(key=key))\n",
        "feature_columns  "
      ],
      "execution_count": 23,
      "outputs": [
        {
          "output_type": "execute_result",
          "data": {
            "text/plain": [
              "[NumericColumn(key='SepalLength', shape=(1,), default_value=None, dtype=tf.float32, normalizer_fn=None),\n",
              " NumericColumn(key='SepalWidth', shape=(1,), default_value=None, dtype=tf.float32, normalizer_fn=None),\n",
              " NumericColumn(key='PetalLength', shape=(1,), default_value=None, dtype=tf.float32, normalizer_fn=None),\n",
              " NumericColumn(key='PetalWidth', shape=(1,), default_value=None, dtype=tf.float32, normalizer_fn=None)]"
            ]
          },
          "metadata": {
            "tags": []
          },
          "execution_count": 23
        }
      ]
    },
    {
      "cell_type": "code",
      "metadata": {
        "id": "GieXmOR_wvpS",
        "colab_type": "code",
        "colab": {
          "base_uri": "https://localhost:8080/",
          "height": 202
        },
        "outputId": "4e62ff94-a79a-49fb-fb59-39432208d81d"
      },
      "source": [
        "classifier = tf.estimator.DNNClassifier(feature_columns=feature_columns,\n",
        "                                        hidden_units=[30,10],\n",
        "                                        n_classes=3)"
      ],
      "execution_count": 24,
      "outputs": [
        {
          "output_type": "stream",
          "text": [
            "INFO:tensorflow:Using default config.\n",
            "WARNING:tensorflow:Using temporary folder as model directory: /tmp/tmp6xr5y8ry\n",
            "INFO:tensorflow:Using config: {'_model_dir': '/tmp/tmp6xr5y8ry', '_tf_random_seed': None, '_save_summary_steps': 100, '_save_checkpoints_steps': None, '_save_checkpoints_secs': 600, '_session_config': allow_soft_placement: true\n",
            "graph_options {\n",
            "  rewrite_options {\n",
            "    meta_optimizer_iterations: ONE\n",
            "  }\n",
            "}\n",
            ", '_keep_checkpoint_max': 5, '_keep_checkpoint_every_n_hours': 10000, '_log_step_count_steps': 100, '_train_distribute': None, '_device_fn': None, '_protocol': None, '_eval_distribute': None, '_experimental_distribute': None, '_experimental_max_worker_delay_secs': None, '_session_creation_timeout_secs': 7200, '_service': None, '_cluster_spec': ClusterSpec({}), '_task_type': 'worker', '_task_id': 0, '_global_id_in_cluster': 0, '_master': '', '_evaluation_master': '', '_is_chief': True, '_num_ps_replicas': 0, '_num_worker_replicas': 1}\n"
          ],
          "name": "stdout"
        }
      ]
    },
    {
      "cell_type": "code",
      "metadata": {
        "id": "0tpXiQIuxL5U",
        "colab_type": "code",
        "colab": {
          "base_uri": "https://localhost:8080/",
          "height": 1000
        },
        "outputId": "307c6299-80b3-43ff-e6ce-d5907c412537"
      },
      "source": [
        "classifier.train(\n",
        "    input_fn=lambda: input_fn(train_df,y_train,training=True)\n",
        "    ,steps=5000)"
      ],
      "execution_count": 25,
      "outputs": [
        {
          "output_type": "stream",
          "text": [
            "INFO:tensorflow:Calling model_fn.\n",
            "WARNING:tensorflow:Layer dnn is casting an input tensor from dtype float64 to the layer's dtype of float32, which is new behavior in TensorFlow 2.  The layer has dtype float32 because it's dtype defaults to floatx.\n",
            "\n",
            "If you intended to run this layer in float32, you can safely ignore this warning. If in doubt, this warning is likely only an issue if you are porting a TensorFlow 1.X model to TensorFlow 2.\n",
            "\n",
            "To change all layers to have dtype float64 by default, call `tf.keras.backend.set_floatx('float64')`. To change just this layer, pass dtype='float64' to the layer constructor. If you are the author of this layer, you can disable autocasting by passing autocast=False to the base Layer constructor.\n",
            "\n",
            "INFO:tensorflow:Done calling model_fn.\n",
            "INFO:tensorflow:Create CheckpointSaverHook.\n",
            "INFO:tensorflow:Graph was finalized.\n",
            "INFO:tensorflow:Running local_init_op.\n",
            "INFO:tensorflow:Done running local_init_op.\n",
            "INFO:tensorflow:Calling checkpoint listeners before saving checkpoint 0...\n",
            "INFO:tensorflow:Saving checkpoints for 0 into /tmp/tmp6xr5y8ry/model.ckpt.\n",
            "INFO:tensorflow:Calling checkpoint listeners after saving checkpoint 0...\n",
            "INFO:tensorflow:loss = 1.2576296, step = 0\n",
            "INFO:tensorflow:global_step/sec: 512.266\n",
            "INFO:tensorflow:loss = 1.0438352, step = 100 (0.199 sec)\n",
            "INFO:tensorflow:global_step/sec: 595.702\n",
            "INFO:tensorflow:loss = 0.94984734, step = 200 (0.165 sec)\n",
            "INFO:tensorflow:global_step/sec: 663.418\n",
            "INFO:tensorflow:loss = 0.90883434, step = 300 (0.152 sec)\n",
            "INFO:tensorflow:global_step/sec: 652.933\n",
            "INFO:tensorflow:loss = 0.86339796, step = 400 (0.154 sec)\n",
            "INFO:tensorflow:global_step/sec: 665.722\n",
            "INFO:tensorflow:loss = 0.83850235, step = 500 (0.152 sec)\n",
            "INFO:tensorflow:global_step/sec: 674.458\n",
            "INFO:tensorflow:loss = 0.81656647, step = 600 (0.148 sec)\n",
            "INFO:tensorflow:global_step/sec: 667.391\n",
            "INFO:tensorflow:loss = 0.7871135, step = 700 (0.150 sec)\n",
            "INFO:tensorflow:global_step/sec: 671.627\n",
            "INFO:tensorflow:loss = 0.7741858, step = 800 (0.147 sec)\n",
            "INFO:tensorflow:global_step/sec: 675.072\n",
            "INFO:tensorflow:loss = 0.75970805, step = 900 (0.148 sec)\n",
            "INFO:tensorflow:global_step/sec: 672.009\n",
            "INFO:tensorflow:loss = 0.747067, step = 1000 (0.149 sec)\n",
            "INFO:tensorflow:global_step/sec: 652.035\n",
            "INFO:tensorflow:loss = 0.7339318, step = 1100 (0.153 sec)\n",
            "INFO:tensorflow:global_step/sec: 662.171\n",
            "INFO:tensorflow:loss = 0.7232822, step = 1200 (0.151 sec)\n",
            "INFO:tensorflow:global_step/sec: 668.901\n",
            "INFO:tensorflow:loss = 0.7250697, step = 1300 (0.150 sec)\n",
            "INFO:tensorflow:global_step/sec: 625.17\n",
            "INFO:tensorflow:loss = 0.6997886, step = 1400 (0.161 sec)\n",
            "INFO:tensorflow:global_step/sec: 648.252\n",
            "INFO:tensorflow:loss = 0.6950851, step = 1500 (0.156 sec)\n",
            "INFO:tensorflow:global_step/sec: 655.422\n",
            "INFO:tensorflow:loss = 0.6789618, step = 1600 (0.153 sec)\n",
            "INFO:tensorflow:global_step/sec: 646.716\n",
            "INFO:tensorflow:loss = 0.67991143, step = 1700 (0.154 sec)\n",
            "INFO:tensorflow:global_step/sec: 655.201\n",
            "INFO:tensorflow:loss = 0.6675534, step = 1800 (0.153 sec)\n",
            "INFO:tensorflow:global_step/sec: 678.229\n",
            "INFO:tensorflow:loss = 0.6502292, step = 1900 (0.147 sec)\n",
            "INFO:tensorflow:global_step/sec: 671.574\n",
            "INFO:tensorflow:loss = 0.663483, step = 2000 (0.149 sec)\n",
            "INFO:tensorflow:global_step/sec: 667.304\n",
            "INFO:tensorflow:loss = 0.6567457, step = 2100 (0.148 sec)\n",
            "INFO:tensorflow:global_step/sec: 677.11\n",
            "INFO:tensorflow:loss = 0.6238822, step = 2200 (0.150 sec)\n",
            "INFO:tensorflow:global_step/sec: 635.629\n",
            "INFO:tensorflow:loss = 0.6414211, step = 2300 (0.157 sec)\n",
            "INFO:tensorflow:global_step/sec: 642.937\n",
            "INFO:tensorflow:loss = 0.63836616, step = 2400 (0.155 sec)\n",
            "INFO:tensorflow:global_step/sec: 658.897\n",
            "INFO:tensorflow:loss = 0.63290703, step = 2500 (0.152 sec)\n",
            "INFO:tensorflow:global_step/sec: 679.679\n",
            "INFO:tensorflow:loss = 0.6179757, step = 2600 (0.147 sec)\n",
            "INFO:tensorflow:global_step/sec: 652.338\n",
            "INFO:tensorflow:loss = 0.6195084, step = 2700 (0.153 sec)\n",
            "INFO:tensorflow:global_step/sec: 673.834\n",
            "INFO:tensorflow:loss = 0.61052674, step = 2800 (0.149 sec)\n",
            "INFO:tensorflow:global_step/sec: 680.288\n",
            "INFO:tensorflow:loss = 0.60209435, step = 2900 (0.145 sec)\n",
            "INFO:tensorflow:global_step/sec: 612.158\n",
            "INFO:tensorflow:loss = 0.60969603, step = 3000 (0.166 sec)\n",
            "INFO:tensorflow:global_step/sec: 633.172\n",
            "INFO:tensorflow:loss = 0.5926668, step = 3100 (0.158 sec)\n",
            "INFO:tensorflow:global_step/sec: 661.081\n",
            "INFO:tensorflow:loss = 0.6062927, step = 3200 (0.151 sec)\n",
            "INFO:tensorflow:global_step/sec: 658.764\n",
            "INFO:tensorflow:loss = 0.60444576, step = 3300 (0.150 sec)\n",
            "INFO:tensorflow:global_step/sec: 664.611\n",
            "INFO:tensorflow:loss = 0.596543, step = 3400 (0.150 sec)\n",
            "INFO:tensorflow:global_step/sec: 636.764\n",
            "INFO:tensorflow:loss = 0.58146584, step = 3500 (0.157 sec)\n",
            "INFO:tensorflow:global_step/sec: 670.381\n",
            "INFO:tensorflow:loss = 0.5896011, step = 3600 (0.149 sec)\n",
            "INFO:tensorflow:global_step/sec: 629.052\n",
            "INFO:tensorflow:loss = 0.60183275, step = 3700 (0.161 sec)\n",
            "INFO:tensorflow:global_step/sec: 665.418\n",
            "INFO:tensorflow:loss = 0.5844104, step = 3800 (0.150 sec)\n",
            "INFO:tensorflow:global_step/sec: 637.112\n",
            "INFO:tensorflow:loss = 0.5776365, step = 3900 (0.157 sec)\n",
            "INFO:tensorflow:global_step/sec: 659.285\n",
            "INFO:tensorflow:loss = 0.57088643, step = 4000 (0.152 sec)\n",
            "INFO:tensorflow:global_step/sec: 645.006\n",
            "INFO:tensorflow:loss = 0.5792742, step = 4100 (0.154 sec)\n",
            "INFO:tensorflow:global_step/sec: 662.371\n",
            "INFO:tensorflow:loss = 0.56432647, step = 4200 (0.152 sec)\n",
            "INFO:tensorflow:global_step/sec: 647.371\n",
            "INFO:tensorflow:loss = 0.5730202, step = 4300 (0.155 sec)\n",
            "INFO:tensorflow:global_step/sec: 605.685\n",
            "INFO:tensorflow:loss = 0.5741089, step = 4400 (0.162 sec)\n",
            "INFO:tensorflow:global_step/sec: 678.008\n",
            "INFO:tensorflow:loss = 0.5660634, step = 4500 (0.149 sec)\n",
            "INFO:tensorflow:global_step/sec: 669.612\n",
            "INFO:tensorflow:loss = 0.56906736, step = 4600 (0.148 sec)\n",
            "INFO:tensorflow:global_step/sec: 656.93\n",
            "INFO:tensorflow:loss = 0.57491803, step = 4700 (0.152 sec)\n",
            "INFO:tensorflow:global_step/sec: 661.514\n",
            "INFO:tensorflow:loss = 0.55139494, step = 4800 (0.152 sec)\n",
            "INFO:tensorflow:global_step/sec: 666.097\n",
            "INFO:tensorflow:loss = 0.5658907, step = 4900 (0.152 sec)\n",
            "INFO:tensorflow:Calling checkpoint listeners before saving checkpoint 5000...\n",
            "INFO:tensorflow:Saving checkpoints for 5000 into /tmp/tmp6xr5y8ry/model.ckpt.\n",
            "INFO:tensorflow:Calling checkpoint listeners after saving checkpoint 5000...\n",
            "INFO:tensorflow:Loss for final step: 0.5596627.\n"
          ],
          "name": "stdout"
        },
        {
          "output_type": "execute_result",
          "data": {
            "text/plain": [
              "<tensorflow_estimator.python.estimator.canned.dnn.DNNClassifierV2 at 0x7fb1b2561588>"
            ]
          },
          "metadata": {
            "tags": []
          },
          "execution_count": 25
        }
      ]
    },
    {
      "cell_type": "code",
      "metadata": {
        "id": "C02nGVqjy6ag",
        "colab_type": "code",
        "colab": {
          "base_uri": "https://localhost:8080/",
          "height": 349
        },
        "outputId": "dafa38dd-9802-43fb-8fdd-ffc88a42ecee"
      },
      "source": [
        "test_result=classifier.evaluate(\n",
        "    input_fn=lambda: input_fn(test_df,y_test,training=False)\n",
        ")"
      ],
      "execution_count": 26,
      "outputs": [
        {
          "output_type": "stream",
          "text": [
            "INFO:tensorflow:Calling model_fn.\n",
            "WARNING:tensorflow:Layer dnn is casting an input tensor from dtype float64 to the layer's dtype of float32, which is new behavior in TensorFlow 2.  The layer has dtype float32 because it's dtype defaults to floatx.\n",
            "\n",
            "If you intended to run this layer in float32, you can safely ignore this warning. If in doubt, this warning is likely only an issue if you are porting a TensorFlow 1.X model to TensorFlow 2.\n",
            "\n",
            "To change all layers to have dtype float64 by default, call `tf.keras.backend.set_floatx('float64')`. To change just this layer, pass dtype='float64' to the layer constructor. If you are the author of this layer, you can disable autocasting by passing autocast=False to the base Layer constructor.\n",
            "\n",
            "INFO:tensorflow:Done calling model_fn.\n",
            "INFO:tensorflow:Starting evaluation at 2020-07-21T10:43:39Z\n",
            "INFO:tensorflow:Graph was finalized.\n",
            "INFO:tensorflow:Restoring parameters from /tmp/tmp6xr5y8ry/model.ckpt-5000\n",
            "INFO:tensorflow:Running local_init_op.\n",
            "INFO:tensorflow:Done running local_init_op.\n",
            "INFO:tensorflow:Inference Time : 0.20826s\n",
            "INFO:tensorflow:Finished evaluation at 2020-07-21-10:43:40\n",
            "INFO:tensorflow:Saving dict for global step 5000: accuracy = 0.53333336, average_loss = 0.65671325, global_step = 5000, loss = 0.65671325\n",
            "INFO:tensorflow:Saving 'checkpoint_path' summary for global step 5000: /tmp/tmp6xr5y8ry/model.ckpt-5000\n"
          ],
          "name": "stdout"
        }
      ]
    },
    {
      "cell_type": "code",
      "metadata": {
        "id": "sKf-ZaWy0hq7",
        "colab_type": "code",
        "colab": {
          "base_uri": "https://localhost:8080/",
          "height": 35
        },
        "outputId": "10acd94f-0a9e-4a17-8ff3-e2a1b01d76c5"
      },
      "source": [
        "def input_fn(features, batch_size=256):\n",
        "  return tf.data.Dataset.from_tensor_slices(dict(features)).batch(batch_size)\n",
        "features= ['SepalLength','SepalWidth','PetalLength','PetalWidth']\n",
        "predict ={}\n",
        "print(\"please type numeric values as prompted\")\n",
        "for feature in features:\n",
        "  valid= True\n",
        "  while valid:\n",
        "    val = input(feature + \": \")\n",
        "    if not val.isdigit(): valid=False\n",
        "  predict[feature] = [float(val)]\n",
        "predictions = classifier.predict(input_fn=lambda:input_fn(predict))\n",
        "for pred_dict in predictions:\n",
        "  class_id = pred_dict['class_ids'][0]\n",
        "  probability = pred_dict['probabilities'][class_id]\n",
        "  print('prediction is \"{}\" ((:.1f)%)'.format(species[class_id], 100*probability))    "
      ],
      "execution_count": null,
      "outputs": [
        {
          "output_type": "stream",
          "text": [
            "please type numeric values as prompted\n"
          ],
          "name": "stdout"
        }
      ]
    }
  ]
}